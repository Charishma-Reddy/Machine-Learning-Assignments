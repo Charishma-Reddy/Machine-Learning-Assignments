{
 "cells": [
  {
   "cell_type": "code",
   "execution_count": 1,
   "metadata": {
    "execution": {
     "iopub.execute_input": "2022-10-18T02:54:35.948625Z",
     "iopub.status.busy": "2022-10-18T02:54:35.947985Z",
     "iopub.status.idle": "2022-10-18T02:54:35.962789Z",
     "shell.execute_reply": "2022-10-18T02:54:35.961738Z",
     "shell.execute_reply.started": "2022-10-18T02:54:35.948574Z"
    }
   },
   "outputs": [],
   "source": [
    "# data analysis and wrangling\n",
    "import pandas as pd\n",
    "import numpy as np\n",
    "import random as rnd\n",
    "\n",
    "# visualization\n",
    "import seaborn as sns\n",
    "import matplotlib.pyplot as plt\n",
    "%matplotlib inline\n",
    "\n",
    "# machine learning\n",
    "from sklearn.linear_model import LogisticRegression\n",
    "from sklearn.svm import SVC, LinearSVC\n",
    "from sklearn.ensemble import RandomForestClassifier #as ensemble\n",
    "from sklearn.neighbors import KNeighborsClassifier\n",
    "from sklearn.naive_bayes import GaussianNB\n",
    "from sklearn.linear_model import Perceptron\n",
    "from sklearn.linear_model import SGDClassifier\n",
    "from sklearn.tree import DecisionTreeClassifier"
   ]
  },
  {
   "cell_type": "code",
   "execution_count": 2,
   "metadata": {
    "execution": {
     "iopub.execute_input": "2022-10-18T02:54:35.965478Z",
     "iopub.status.busy": "2022-10-18T02:54:35.964836Z",
     "iopub.status.idle": "2022-10-18T02:54:35.985885Z",
     "shell.execute_reply": "2022-10-18T02:54:35.984578Z",
     "shell.execute_reply.started": "2022-10-18T02:54:35.965441Z"
    }
   },
   "outputs": [],
   "source": [
    "from imblearn.over_sampling import SMOTE\n",
    "from imblearn.over_sampling import RandomOverSampler\n",
    "import sys\n",
    "from sklearn.model_selection import StratifiedKFold\n",
    "from sklearn.model_selection import cross_val_score\n",
    "from sklearn.model_selection import train_test_split\n"
   ]
  },
  {
   "cell_type": "code",
   "execution_count": 3,
   "metadata": {
    "execution": {
     "iopub.execute_input": "2022-10-18T02:54:35.988090Z",
     "iopub.status.busy": "2022-10-18T02:54:35.987435Z",
     "iopub.status.idle": "2022-10-18T02:54:35.997778Z",
     "shell.execute_reply": "2022-10-18T02:54:35.996760Z",
     "shell.execute_reply.started": "2022-10-18T02:54:35.988052Z"
    }
   },
   "outputs": [],
   "source": [
    "#print(\"Total number of passengers in training dataset\",len(train_df))\n",
    "#print(\"Totalnumber of passengers who survived in training dataset\",len(train_df[train_df[\"Survived\"]==1]))"
   ]
  },
  {
   "cell_type": "code",
   "execution_count": null,
   "metadata": {},
   "outputs": [],
   "source": []
  },
  {
   "cell_type": "code",
   "execution_count": null,
   "metadata": {
    "execution": {
     "iopub.execute_input": "2022-10-18T02:54:36.001416Z",
     "iopub.status.busy": "2022-10-18T02:54:36.000668Z",
     "iopub.status.idle": "2022-10-18T02:54:36.016432Z",
     "shell.execute_reply": "2022-10-18T02:54:36.014204Z",
     "shell.execute_reply.started": "2022-10-18T02:54:36.001375Z"
    }
   },
   "outputs": [],
   "source": [
    "import keras\n",
    "from keras.models import Sequential\n",
    "from keras.layers import Dense\n",
    "from keras.models import load_model\n",
    "\n",
    "#empty model\n",
    "classifier = Sequential()"
   ]
  },
  {
   "cell_type": "code",
   "execution_count": null,
   "metadata": {
    "execution": {
     "iopub.execute_input": "2022-10-18T02:54:36.018718Z",
     "iopub.status.busy": "2022-10-18T02:54:36.018081Z",
     "iopub.status.idle": "2022-10-18T02:54:36.042478Z",
     "shell.execute_reply": "2022-10-18T02:54:36.041234Z",
     "shell.execute_reply.started": "2022-10-18T02:54:36.018682Z"
    }
   },
   "outputs": [],
   "source": [
    "train_df = pd.read_csv('../input/titanic/train.csv')\n",
    "test_df = pd.read_csv('../input/titanic/test.csv')\n",
    "combine = [train_df, test_df]"
   ]
  },
  {
   "cell_type": "code",
   "execution_count": null,
   "metadata": {
    "execution": {
     "iopub.execute_input": "2022-10-18T02:54:36.044226Z",
     "iopub.status.busy": "2022-10-18T02:54:36.043817Z",
     "iopub.status.idle": "2022-10-18T02:54:36.049016Z",
     "shell.execute_reply": "2022-10-18T02:54:36.048063Z",
     "shell.execute_reply.started": "2022-10-18T02:54:36.044185Z"
    }
   },
   "outputs": [],
   "source": [
    "##Decision tree tuning"
   ]
  },
  {
   "cell_type": "code",
   "execution_count": null,
   "metadata": {
    "execution": {
     "iopub.execute_input": "2022-10-18T02:54:36.051535Z",
     "iopub.status.busy": "2022-10-18T02:54:36.050581Z",
     "iopub.status.idle": "2022-10-18T02:54:36.073834Z",
     "shell.execute_reply": "2022-10-18T02:54:36.072601Z",
     "shell.execute_reply.started": "2022-10-18T02:54:36.051489Z"
    }
   },
   "outputs": [],
   "source": [
    "train = pd.read_csv('../input/titanic/train.csv') # sample model based on sample\n",
    "test = pd.read_csv('../input/titanic/test.csv') # predict the output based on sample"
   ]
  },
  {
   "cell_type": "code",
   "execution_count": null,
   "metadata": {
    "execution": {
     "iopub.execute_input": "2022-10-18T02:54:36.077547Z",
     "iopub.status.busy": "2022-10-18T02:54:36.076844Z",
     "iopub.status.idle": "2022-10-18T02:54:36.097412Z",
     "shell.execute_reply": "2022-10-18T02:54:36.096079Z",
     "shell.execute_reply.started": "2022-10-18T02:54:36.077507Z"
    }
   },
   "outputs": [],
   "source": [
    "train.head()"
   ]
  },
  {
   "cell_type": "code",
   "execution_count": null,
   "metadata": {
    "execution": {
     "iopub.execute_input": "2022-10-18T02:54:36.099822Z",
     "iopub.status.busy": "2022-10-18T02:54:36.099002Z",
     "iopub.status.idle": "2022-10-18T02:54:36.118038Z",
     "shell.execute_reply": "2022-10-18T02:54:36.116614Z",
     "shell.execute_reply.started": "2022-10-18T02:54:36.099779Z"
    }
   },
   "outputs": [],
   "source": [
    "test.head()"
   ]
  },
  {
   "cell_type": "code",
   "execution_count": null,
   "metadata": {
    "execution": {
     "iopub.execute_input": "2022-10-18T02:54:36.120538Z",
     "iopub.status.busy": "2022-10-18T02:54:36.120072Z",
     "iopub.status.idle": "2022-10-18T02:54:36.131709Z",
     "shell.execute_reply": "2022-10-18T02:54:36.130235Z",
     "shell.execute_reply.started": "2022-10-18T02:54:36.120500Z"
    }
   },
   "outputs": [],
   "source": [
    "print(\"Total number of passengers in training dataset\",len(train))\n",
    "print(\"Totalnumber of passengers who survived in training dataset\",len(train[train[\"Survived\"]==1]))"
   ]
  },
  {
   "cell_type": "code",
   "execution_count": null,
   "metadata": {
    "execution": {
     "iopub.execute_input": "2022-10-18T02:54:36.133985Z",
     "iopub.status.busy": "2022-10-18T02:54:36.133524Z",
     "iopub.status.idle": "2022-10-18T02:54:36.149474Z",
     "shell.execute_reply": "2022-10-18T02:54:36.148246Z",
     "shell.execute_reply.started": "2022-10-18T02:54:36.133935Z"
    }
   },
   "outputs": [],
   "source": [
    "men=len(train[(train[\"Survived\"]==1)&(train[\"Sex\"]==\"male\")])\n",
    "women=len(train[(train[\"Survived\"]==1) & (train[\"Sex\"]==\"female\")])\n",
    "print(\"men survived number\",men)\n",
    "print(\"women survived number\",women)"
   ]
  },
  {
   "cell_type": "code",
   "execution_count": null,
   "metadata": {
    "execution": {
     "iopub.execute_input": "2022-10-18T02:54:36.152419Z",
     "iopub.status.busy": "2022-10-18T02:54:36.151721Z",
     "iopub.status.idle": "2022-10-18T02:54:36.170682Z",
     "shell.execute_reply": "2022-10-18T02:54:36.169344Z",
     "shell.execute_reply.started": "2022-10-18T02:54:36.152363Z"
    }
   },
   "outputs": [],
   "source": [
    "print(\"percentage of men who survived\",100*(men/(len(train[train[\"Sex\"]==\"male\"]))))\n",
    "print(\"percentage of women who survived\",100*(women/(len(train[train[\"Sex\"]==\"female\"]))))"
   ]
  },
  {
   "cell_type": "code",
   "execution_count": null,
   "metadata": {
    "execution": {
     "iopub.execute_input": "2022-10-18T02:54:36.173061Z",
     "iopub.status.busy": "2022-10-18T02:54:36.172273Z",
     "iopub.status.idle": "2022-10-18T02:54:36.190264Z",
     "shell.execute_reply": "2022-10-18T02:54:36.187700Z",
     "shell.execute_reply.started": "2022-10-18T02:54:36.173012Z"
    }
   },
   "outputs": [],
   "source": [
    "class1=len(train[(train[\"Survived\"]==1)&(train[\"Pclass\"]==1)])\n",
    "class2=len(train[(train[\"Survived\"]==1) & (train[\"Pclass\"]==2)])\n",
    "class3=len(train[(train[\"Survived\"]==1)&(train[\"Pclass\"]==3)])"
   ]
  },
  {
   "cell_type": "code",
   "execution_count": null,
   "metadata": {
    "execution": {
     "iopub.execute_input": "2022-10-18T02:54:36.193012Z",
     "iopub.status.busy": "2022-10-18T02:54:36.192444Z",
     "iopub.status.idle": "2022-10-18T02:54:36.208792Z",
     "shell.execute_reply": "2022-10-18T02:54:36.207537Z",
     "shell.execute_reply.started": "2022-10-18T02:54:36.192945Z"
    }
   },
   "outputs": [],
   "source": [
    "print(\"percentage of Passengers who survived in class 1\", 100*(class1/len(train[train[\"Pclass\"]==1])))\n",
    "print(\"percentage of Passengers who survived in class 2\", 100*(class2/len(train[train[\"Pclass\"]==2])))\n",
    "print(\"percentage of Passengers who survived in class 3\", 100*(class3/len(train[train[\"Pclass\"]==3])))"
   ]
  },
  {
   "cell_type": "code",
   "execution_count": null,
   "metadata": {
    "execution": {
     "iopub.execute_input": "2022-10-18T02:54:36.213975Z",
     "iopub.status.busy": "2022-10-18T02:54:36.212980Z",
     "iopub.status.idle": "2022-10-18T02:54:36.224394Z",
     "shell.execute_reply": "2022-10-18T02:54:36.223039Z",
     "shell.execute_reply.started": "2022-10-18T02:54:36.213935Z"
    }
   },
   "outputs": [],
   "source": [
    "children=len(train[(train[\"Survived\"]==1)&(train[\"Age\"]<18)])\n",
    "adult=len(train[(train[\"Survived\"]==1)&(train[\"Age\"]>18)])"
   ]
  },
  {
   "cell_type": "code",
   "execution_count": null,
   "metadata": {
    "execution": {
     "iopub.execute_input": "2022-10-18T02:54:36.227351Z",
     "iopub.status.busy": "2022-10-18T02:54:36.226160Z",
     "iopub.status.idle": "2022-10-18T02:54:36.240096Z",
     "shell.execute_reply": "2022-10-18T02:54:36.238015Z",
     "shell.execute_reply.started": "2022-10-18T02:54:36.227298Z"
    }
   },
   "outputs": [],
   "source": [
    "print(\"percentage of children who survived\",100*(children/len(train[train[\"Age\"]<18])))\n",
    "print(\"percentage of adult who survived\",100*(adult/len(train[train[\"Age\"]>18])))"
   ]
  },
  {
   "cell_type": "code",
   "execution_count": null,
   "metadata": {
    "execution": {
     "iopub.execute_input": "2022-10-18T02:54:36.242445Z",
     "iopub.status.busy": "2022-10-18T02:54:36.241700Z",
     "iopub.status.idle": "2022-10-18T02:54:36.258288Z",
     "shell.execute_reply": "2022-10-18T02:54:36.256353Z",
     "shell.execute_reply.started": "2022-10-18T02:54:36.242406Z"
    }
   },
   "outputs": [],
   "source": [
    "#Encode the sex male as 1 and female as 0\n",
    "train[\"Sex\"] = train[\"Sex\"].apply(lambda x: 1 if x==\"male\" else 0)\n",
    "#Omit irrelevant columns such as port, cabin, Embarked, Ticket, Passenger-ID, Name\n",
    "train = train[['Survived','Pclass','Sex','Age','SibSp','Parch','Fare']]\n",
    "#Fill themissing values of Age and fare with mean value(any relevant values)\n",
    "train[\"Age\"] = train[\"Age\"].fillna(np.mean(train[\"Age\"]))\n",
    "train[\"Fare\"] = train[\"Fare\"].fillna(np.mean(train[\"Fare\"]))"
   ]
  },
  {
   "cell_type": "code",
   "execution_count": null,
   "metadata": {
    "execution": {
     "iopub.execute_input": "2022-10-18T02:54:36.261457Z",
     "iopub.status.busy": "2022-10-18T02:54:36.259838Z",
     "iopub.status.idle": "2022-10-18T02:54:36.273361Z",
     "shell.execute_reply": "2022-10-18T02:54:36.272035Z",
     "shell.execute_reply.started": "2022-10-18T02:54:36.261412Z"
    }
   },
   "outputs": [],
   "source": [
    "Y = train[\"Survived\"]\n",
    "X = train.drop(\"Survived\",axis=1)"
   ]
  },
  {
   "cell_type": "code",
   "execution_count": null,
   "metadata": {
    "execution": {
     "iopub.execute_input": "2022-10-18T02:54:36.276704Z",
     "iopub.status.busy": "2022-10-18T02:54:36.275393Z",
     "iopub.status.idle": "2022-10-18T02:54:36.295324Z",
     "shell.execute_reply": "2022-10-18T02:54:36.294058Z",
     "shell.execute_reply.started": "2022-10-18T02:54:36.276659Z"
    }
   },
   "outputs": [],
   "source": [
    "#Split the training dataset\n",
    "#split train datset into 33% test data and remaining as training data \n",
    "from sklearn.model_selection import train_test_split\n",
    "X_train,X_test,Y_train,Y_test=train_test_split(X,Y,test_size=0.33,random_state=42)\n",
    "#Train the model using decision tree classifier\n",
    "from sklearn.tree import DecisionTreeClassifier\n",
    "classifier = DecisionTreeClassifier()\n",
    "classifier.fit(X_train,Y_train)"
   ]
  },
  {
   "cell_type": "code",
   "execution_count": null,
   "metadata": {
    "execution": {
     "iopub.execute_input": "2022-10-18T02:54:36.297691Z",
     "iopub.status.busy": "2022-10-18T02:54:36.296763Z",
     "iopub.status.idle": "2022-10-18T02:54:36.311808Z",
     "shell.execute_reply": "2022-10-18T02:54:36.309901Z",
     "shell.execute_reply.started": "2022-10-18T02:54:36.297653Z"
    }
   },
   "outputs": [],
   "source": [
    "from sklearn.metrics import accuracy_score\n",
    "print('Training accuracy...', accuracy_score(Y_train, classifier.predict(X_train)))\n",
    "print('Validation accuracy', accuracy_score(Y_test, classifier.predict(X_test)))"
   ]
  },
  {
   "cell_type": "code",
   "execution_count": null,
   "metadata": {
    "execution": {
     "iopub.execute_input": "2022-10-18T02:54:36.314480Z",
     "iopub.status.busy": "2022-10-18T02:54:36.313672Z",
     "iopub.status.idle": "2022-10-18T02:54:36.328780Z",
     "shell.execute_reply": "2022-10-18T02:54:36.327351Z",
     "shell.execute_reply.started": "2022-10-18T02:54:36.314413Z"
    }
   },
   "outputs": [],
   "source": [
    "#Improve the model => to reduce the difference in accuracy\n",
    "classifier = DecisionTreeClassifier(max_depth = 3)\n",
    "classifier.fit(X_train, Y_train)"
   ]
  },
  {
   "cell_type": "code",
   "execution_count": null,
   "metadata": {
    "execution": {
     "iopub.execute_input": "2022-10-18T02:54:36.330882Z",
     "iopub.status.busy": "2022-10-18T02:54:36.330392Z",
     "iopub.status.idle": "2022-10-18T02:54:36.344521Z",
     "shell.execute_reply": "2022-10-18T02:54:36.342892Z",
     "shell.execute_reply.started": "2022-10-18T02:54:36.330837Z"
    }
   },
   "outputs": [],
   "source": [
    "#Evaluate the model\n",
    "print('Training accuracy...', accuracy_score(Y_train, classifier.predict(X_train)))\n",
    "print('Validation accuracy', accuracy_score(Y_test, classifier.predict(X_test)))\n"
   ]
  },
  {
   "cell_type": "code",
   "execution_count": null,
   "metadata": {
    "execution": {
     "iopub.execute_input": "2022-10-18T02:54:36.347413Z",
     "iopub.status.busy": "2022-10-18T02:54:36.346133Z",
     "iopub.status.idle": "2022-10-18T02:54:36.596507Z",
     "shell.execute_reply": "2022-10-18T02:54:36.595120Z",
     "shell.execute_reply.started": "2022-10-18T02:54:36.347367Z"
    }
   },
   "outputs": [],
   "source": [
    "#Visualization of the decision tree model\n",
    "from sklearn import tree\n",
    "from IPython.display import Image as PImage\n",
    "from subprocess import check_call\n",
    "from PIL import Image, ImageDraw, ImageFont\n",
    "\n",
    "with open(\"tree1.dot\", 'w') as f:\n",
    "     f = tree.export_graphviz(classifier,\n",
    "                              out_file=f,\n",
    "                              impurity = False,\n",
    "                              feature_names = X_test.columns.values,\n",
    "                              class_names = ['No', 'Yes'],\n",
    "                              rounded = True,\n",
    "                              filled= True )\n",
    "        \n",
    "\n",
    "check_call(['dot','-Tpng','tree1.dot','-o','tree1.png'])\n",
    "\n",
    "\n",
    "img = Image.open(\"tree1.png\")\n",
    "draw = ImageDraw.Draw(img)\n",
    "img.save('sample-out.png')\n",
    "PImage(\"sample-out.png\")"
   ]
  },
  {
   "cell_type": "code",
   "execution_count": null,
   "metadata": {
    "execution": {
     "iopub.execute_input": "2022-10-18T02:54:36.603852Z",
     "iopub.status.busy": "2022-10-18T02:54:36.603397Z",
     "iopub.status.idle": "2022-10-18T02:54:36.615137Z",
     "shell.execute_reply": "2022-10-18T02:54:36.613845Z",
     "shell.execute_reply.started": "2022-10-18T02:54:36.603812Z"
    }
   },
   "outputs": [],
   "source": [
    "\n",
    "kf = StratifiedKFold(n_splits=5, shuffle=True, random_state=42)\n",
    "\n",
    "cnt = 1\n",
    "\n",
    "for train_index, test_index in kf.split(X, Y):\n",
    "    print(f'Fold:{cnt}, Train set: {len(train_index)}, Test set:{len(test_index)}')\n",
    "    cnt+=1\n",
    "    \n"
   ]
  },
  {
   "cell_type": "code",
   "execution_count": null,
   "metadata": {
    "execution": {
     "iopub.execute_input": "2022-10-18T02:54:36.618042Z",
     "iopub.status.busy": "2022-10-18T02:54:36.616801Z",
     "iopub.status.idle": "2022-10-18T02:54:36.671046Z",
     "shell.execute_reply": "2022-10-18T02:54:36.669930Z",
     "shell.execute_reply.started": "2022-10-18T02:54:36.618000Z"
    }
   },
   "outputs": [],
   "source": [
    "score = cross_val_score(tree.DecisionTreeClassifier(random_state= 42), X, Y, cv= kf, scoring=\"accuracy\")\n",
    "print(f'Scores for each fold are: {score}')\n",
    "print(f'Average score: {\"{:.2f}\".format(score.mean())}')"
   ]
  },
  {
   "cell_type": "code",
   "execution_count": null,
   "metadata": {},
   "outputs": [],
   "source": []
  },
  {
   "cell_type": "code",
   "execution_count": null,
   "metadata": {
    "execution": {
     "iopub.execute_input": "2022-10-18T02:54:36.672847Z",
     "iopub.status.busy": "2022-10-18T02:54:36.672493Z",
     "iopub.status.idle": "2022-10-18T02:54:36.678703Z",
     "shell.execute_reply": "2022-10-18T02:54:36.677788Z",
     "shell.execute_reply.started": "2022-10-18T02:54:36.672815Z"
    }
   },
   "outputs": [],
   "source": [
    "print(train_df.columns.values)"
   ]
  },
  {
   "cell_type": "code",
   "execution_count": null,
   "metadata": {
    "execution": {
     "iopub.execute_input": "2022-10-18T02:54:36.681057Z",
     "iopub.status.busy": "2022-10-18T02:54:36.679962Z",
     "iopub.status.idle": "2022-10-18T02:54:36.708320Z",
     "shell.execute_reply": "2022-10-18T02:54:36.706943Z",
     "shell.execute_reply.started": "2022-10-18T02:54:36.681012Z"
    }
   },
   "outputs": [],
   "source": [
    "# preview the data\n",
    "train_df.head()"
   ]
  },
  {
   "cell_type": "code",
   "execution_count": null,
   "metadata": {
    "execution": {
     "iopub.execute_input": "2022-10-18T02:54:36.710696Z",
     "iopub.status.busy": "2022-10-18T02:54:36.710071Z",
     "iopub.status.idle": "2022-10-18T02:54:36.735323Z",
     "shell.execute_reply": "2022-10-18T02:54:36.733906Z",
     "shell.execute_reply.started": "2022-10-18T02:54:36.710656Z"
    }
   },
   "outputs": [],
   "source": [
    "train_df.tail()"
   ]
  },
  {
   "cell_type": "code",
   "execution_count": null,
   "metadata": {
    "execution": {
     "iopub.execute_input": "2022-10-18T02:54:36.738539Z",
     "iopub.status.busy": "2022-10-18T02:54:36.737321Z",
     "iopub.status.idle": "2022-10-18T02:54:36.767901Z",
     "shell.execute_reply": "2022-10-18T02:54:36.766684Z",
     "shell.execute_reply.started": "2022-10-18T02:54:36.738481Z"
    }
   },
   "outputs": [],
   "source": [
    "train_df.info()\n",
    "print('_'*40)\n",
    "test_df.info()"
   ]
  },
  {
   "cell_type": "code",
   "execution_count": null,
   "metadata": {
    "execution": {
     "iopub.execute_input": "2022-10-18T02:54:36.769720Z",
     "iopub.status.busy": "2022-10-18T02:54:36.769358Z",
     "iopub.status.idle": "2022-10-18T02:54:36.810766Z",
     "shell.execute_reply": "2022-10-18T02:54:36.809514Z",
     "shell.execute_reply.started": "2022-10-18T02:54:36.769687Z"
    }
   },
   "outputs": [],
   "source": [
    "train_df.describe()\n",
    "# Review survived rate using `percentiles=[.61, .62]` knowing our problem description mentions 38% survival rate.\n",
    "# Review Parch distribution using `percentiles=[.75, .8]`\n",
    "# SibSp distribution `[.68, .69]`\n",
    "# Age and Fare `[.1, .2, .3, .4, .5, .6, .7, .8, .9, .99]`"
   ]
  },
  {
   "cell_type": "code",
   "execution_count": null,
   "metadata": {
    "execution": {
     "iopub.execute_input": "2022-10-18T02:54:36.815647Z",
     "iopub.status.busy": "2022-10-18T02:54:36.814755Z",
     "iopub.status.idle": "2022-10-18T02:54:36.841981Z",
     "shell.execute_reply": "2022-10-18T02:54:36.840649Z",
     "shell.execute_reply.started": "2022-10-18T02:54:36.815593Z"
    }
   },
   "outputs": [],
   "source": [
    "train_df.describe(include=['O'])"
   ]
  },
  {
   "cell_type": "code",
   "execution_count": null,
   "metadata": {
    "execution": {
     "iopub.execute_input": "2022-10-18T02:54:36.844087Z",
     "iopub.status.busy": "2022-10-18T02:54:36.843600Z",
     "iopub.status.idle": "2022-10-18T02:54:36.863331Z",
     "shell.execute_reply": "2022-10-18T02:54:36.861881Z",
     "shell.execute_reply.started": "2022-10-18T02:54:36.844050Z"
    }
   },
   "outputs": [],
   "source": [
    "train_df[['Pclass', 'Survived']].groupby(['Pclass'], as_index=False).mean().sort_values(by='Survived', ascending=False)"
   ]
  },
  {
   "cell_type": "code",
   "execution_count": null,
   "metadata": {
    "execution": {
     "iopub.execute_input": "2022-10-18T02:54:36.865968Z",
     "iopub.status.busy": "2022-10-18T02:54:36.865187Z",
     "iopub.status.idle": "2022-10-18T02:54:36.885424Z",
     "shell.execute_reply": "2022-10-18T02:54:36.884209Z",
     "shell.execute_reply.started": "2022-10-18T02:54:36.865921Z"
    }
   },
   "outputs": [],
   "source": [
    "train_df[[\"Sex\", \"Survived\"]].groupby(['Sex'], as_index=False).mean().sort_values(by='Survived', ascending=False)"
   ]
  },
  {
   "cell_type": "code",
   "execution_count": null,
   "metadata": {
    "execution": {
     "iopub.execute_input": "2022-10-18T02:54:36.890337Z",
     "iopub.status.busy": "2022-10-18T02:54:36.889225Z",
     "iopub.status.idle": "2022-10-18T02:54:36.908350Z",
     "shell.execute_reply": "2022-10-18T02:54:36.907006Z",
     "shell.execute_reply.started": "2022-10-18T02:54:36.890290Z"
    }
   },
   "outputs": [],
   "source": [
    "train_df[[\"SibSp\", \"Survived\"]].groupby(['SibSp'], as_index=False).mean().sort_values(by='Survived', ascending=False)"
   ]
  },
  {
   "cell_type": "code",
   "execution_count": null,
   "metadata": {
    "execution": {
     "iopub.execute_input": "2022-10-18T02:54:36.911254Z",
     "iopub.status.busy": "2022-10-18T02:54:36.910020Z",
     "iopub.status.idle": "2022-10-18T02:54:36.929885Z",
     "shell.execute_reply": "2022-10-18T02:54:36.928559Z",
     "shell.execute_reply.started": "2022-10-18T02:54:36.911210Z"
    }
   },
   "outputs": [],
   "source": [
    "train_df[[\"Parch\", \"Survived\"]].groupby(['Parch'], as_index=False).mean().sort_values(by='Survived', ascending=False)"
   ]
  },
  {
   "cell_type": "code",
   "execution_count": null,
   "metadata": {
    "execution": {
     "iopub.execute_input": "2022-10-18T02:54:36.932411Z",
     "iopub.status.busy": "2022-10-18T02:54:36.931392Z",
     "iopub.status.idle": "2022-10-18T02:54:37.447941Z",
     "shell.execute_reply": "2022-10-18T02:54:37.446483Z",
     "shell.execute_reply.started": "2022-10-18T02:54:36.932367Z"
    }
   },
   "outputs": [],
   "source": [
    "g = sns.FacetGrid(train_df, col='Survived')\n",
    "g.map(plt.hist, 'Age', bins=20)"
   ]
  },
  {
   "cell_type": "code",
   "execution_count": null,
   "metadata": {
    "execution": {
     "iopub.execute_input": "2022-10-18T02:54:37.450605Z",
     "iopub.status.busy": "2022-10-18T02:54:37.449981Z",
     "iopub.status.idle": "2022-10-18T02:54:39.139689Z",
     "shell.execute_reply": "2022-10-18T02:54:39.138448Z",
     "shell.execute_reply.started": "2022-10-18T02:54:37.450553Z"
    }
   },
   "outputs": [],
   "source": [
    "# grid = sns.FacetGrid(train_df, col='Pclass', hue='Survived')\n",
    "grid = sns.FacetGrid(train_df, col='Survived', row='Pclass', size=2.2, aspect=1.6)\n",
    "grid.map(plt.hist, 'Age', alpha=.5, bins=20)\n",
    "grid.add_legend();"
   ]
  },
  {
   "cell_type": "code",
   "execution_count": null,
   "metadata": {
    "execution": {
     "iopub.execute_input": "2022-10-18T02:54:39.142102Z",
     "iopub.status.busy": "2022-10-18T02:54:39.141276Z",
     "iopub.status.idle": "2022-10-18T02:54:40.416710Z",
     "shell.execute_reply": "2022-10-18T02:54:40.415556Z",
     "shell.execute_reply.started": "2022-10-18T02:54:39.142054Z"
    }
   },
   "outputs": [],
   "source": [
    "# grid = sns.FacetGrid(train_df, col='Embarked')\n",
    "grid = sns.FacetGrid(train_df, row='Embarked', size=2.2, aspect=1.6)\n",
    "grid.map(sns.pointplot, 'Pclass', 'Survived', 'Sex', palette='deep')\n",
    "grid.add_legend()"
   ]
  },
  {
   "cell_type": "code",
   "execution_count": null,
   "metadata": {
    "execution": {
     "iopub.execute_input": "2022-10-18T02:54:40.418547Z",
     "iopub.status.busy": "2022-10-18T02:54:40.418182Z",
     "iopub.status.idle": "2022-10-18T02:54:41.495831Z",
     "shell.execute_reply": "2022-10-18T02:54:41.494298Z",
     "shell.execute_reply.started": "2022-10-18T02:54:40.418512Z"
    }
   },
   "outputs": [],
   "source": [
    "# grid = sns.FacetGrid(train_df, col='Embarked', hue='Survived', palette={0: 'k', 1: 'w'})\n",
    "grid = sns.FacetGrid(train_df, row='Embarked', col='Survived', size=2.2, aspect=1.6)\n",
    "grid.map(sns.barplot, 'Sex', 'Fare', alpha=.5, ci=None)\n",
    "grid.add_legend()"
   ]
  },
  {
   "cell_type": "code",
   "execution_count": null,
   "metadata": {
    "execution": {
     "iopub.execute_input": "2022-10-18T02:54:41.497786Z",
     "iopub.status.busy": "2022-10-18T02:54:41.497398Z",
     "iopub.status.idle": "2022-10-18T02:54:41.512027Z",
     "shell.execute_reply": "2022-10-18T02:54:41.510700Z",
     "shell.execute_reply.started": "2022-10-18T02:54:41.497749Z"
    }
   },
   "outputs": [],
   "source": [
    "print(\"Before\", train_df.shape, test_df.shape, combine[0].shape, combine[1].shape)\n",
    "\n",
    "train_df = train_df.drop(['Ticket', 'Cabin'], axis=1)\n",
    "test_df = test_df.drop(['Ticket', 'Cabin'], axis=1)\n",
    "combine = [train_df, test_df]\n",
    "\n",
    "\"After\", train_df.shape, test_df.shape, combine[0].shape, combine[1].shape"
   ]
  },
  {
   "cell_type": "code",
   "execution_count": null,
   "metadata": {
    "execution": {
     "iopub.execute_input": "2022-10-18T02:54:41.515011Z",
     "iopub.status.busy": "2022-10-18T02:54:41.514368Z",
     "iopub.status.idle": "2022-10-18T02:54:41.548907Z",
     "shell.execute_reply": "2022-10-18T02:54:41.547460Z",
     "shell.execute_reply.started": "2022-10-18T02:54:41.514957Z"
    }
   },
   "outputs": [],
   "source": [
    "for dataset in combine:\n",
    "    dataset['Title'] = dataset.Name.str.extract(' ([A-Za-z]+)\\.', expand=False)\n",
    "\n",
    "pd.crosstab(train_df['Title'], train_df['Sex'])"
   ]
  },
  {
   "cell_type": "code",
   "execution_count": null,
   "metadata": {
    "execution": {
     "iopub.execute_input": "2022-10-18T02:54:41.551367Z",
     "iopub.status.busy": "2022-10-18T02:54:41.550945Z",
     "iopub.status.idle": "2022-10-18T02:54:41.577262Z",
     "shell.execute_reply": "2022-10-18T02:54:41.575911Z",
     "shell.execute_reply.started": "2022-10-18T02:54:41.551326Z"
    }
   },
   "outputs": [],
   "source": [
    "for dataset in combine:\n",
    "    dataset['Title'] = dataset['Title'].replace(['Lady', 'Countess','Capt', 'Col',\\\n",
    " \t'Don', 'Dr', 'Major', 'Rev', 'Sir', 'Jonkheer', 'Dona'], 'Rare')\n",
    "\n",
    "    dataset['Title'] = dataset['Title'].replace('Mlle', 'Miss')\n",
    "    dataset['Title'] = dataset['Title'].replace('Ms', 'Miss')\n",
    "    dataset['Title'] = dataset['Title'].replace('Mme', 'Mrs')\n",
    "    \n",
    "train_df[['Title', 'Survived']].groupby(['Title'], as_index=False).mean()"
   ]
  },
  {
   "cell_type": "code",
   "execution_count": null,
   "metadata": {
    "execution": {
     "iopub.execute_input": "2022-10-18T02:54:41.582164Z",
     "iopub.status.busy": "2022-10-18T02:54:41.581749Z",
     "iopub.status.idle": "2022-10-18T02:54:41.604164Z",
     "shell.execute_reply": "2022-10-18T02:54:41.603084Z",
     "shell.execute_reply.started": "2022-10-18T02:54:41.582114Z"
    }
   },
   "outputs": [],
   "source": [
    "title_mapping = {\"Mr\": 1, \"Miss\": 2, \"Mrs\": 3, \"Master\": 4, \"Rare\": 5}\n",
    "for dataset in combine:\n",
    "    dataset['Title'] = dataset['Title'].map(title_mapping)\n",
    "    dataset['Title'] = dataset['Title'].fillna(0)\n",
    "\n",
    "train_df.head()"
   ]
  },
  {
   "cell_type": "code",
   "execution_count": null,
   "metadata": {
    "execution": {
     "iopub.execute_input": "2022-10-18T02:54:41.606441Z",
     "iopub.status.busy": "2022-10-18T02:54:41.605748Z",
     "iopub.status.idle": "2022-10-18T02:54:41.623619Z",
     "shell.execute_reply": "2022-10-18T02:54:41.622492Z",
     "shell.execute_reply.started": "2022-10-18T02:54:41.606400Z"
    }
   },
   "outputs": [],
   "source": [
    "train_df = train_df.drop(['Name', 'PassengerId'], axis=1)\n",
    "test_df = test_df.drop(['Name'], axis=1)\n",
    "combine = [train_df, test_df]\n",
    "train_df.shape, test_df.shape"
   ]
  },
  {
   "cell_type": "code",
   "execution_count": null,
   "metadata": {
    "execution": {
     "iopub.execute_input": "2022-10-18T02:54:41.626722Z",
     "iopub.status.busy": "2022-10-18T02:54:41.626114Z",
     "iopub.status.idle": "2022-10-18T02:54:41.647942Z",
     "shell.execute_reply": "2022-10-18T02:54:41.646402Z",
     "shell.execute_reply.started": "2022-10-18T02:54:41.626669Z"
    }
   },
   "outputs": [],
   "source": [
    "for dataset in combine:\n",
    "    dataset['Sex'] = dataset['Sex'].map( {'female': 1, 'male': 0} ).astype(int)\n",
    "\n",
    "train_df.head()"
   ]
  },
  {
   "cell_type": "code",
   "execution_count": null,
   "metadata": {
    "execution": {
     "iopub.execute_input": "2022-10-18T02:54:41.649959Z",
     "iopub.status.busy": "2022-10-18T02:54:41.649546Z",
     "iopub.status.idle": "2022-10-18T02:54:43.234340Z",
     "shell.execute_reply": "2022-10-18T02:54:43.232910Z",
     "shell.execute_reply.started": "2022-10-18T02:54:41.649914Z"
    }
   },
   "outputs": [],
   "source": [
    "# grid = sns.FacetGrid(train_df, col='Pclass', hue='Gender')\n",
    "grid = sns.FacetGrid(train_df, row='Pclass', col='Sex', size=2.2, aspect=1.6)\n",
    "grid.map(plt.hist, 'Age', alpha=.5, bins=20)\n",
    "grid.add_legend()"
   ]
  },
  {
   "cell_type": "code",
   "execution_count": null,
   "metadata": {
    "execution": {
     "iopub.execute_input": "2022-10-18T02:54:43.236092Z",
     "iopub.status.busy": "2022-10-18T02:54:43.235744Z",
     "iopub.status.idle": "2022-10-18T02:54:43.244496Z",
     "shell.execute_reply": "2022-10-18T02:54:43.243182Z",
     "shell.execute_reply.started": "2022-10-18T02:54:43.236060Z"
    }
   },
   "outputs": [],
   "source": [
    "guess_ages = np.zeros((2,3))\n",
    "guess_ages"
   ]
  },
  {
   "cell_type": "code",
   "execution_count": null,
   "metadata": {
    "execution": {
     "iopub.execute_input": "2022-10-18T02:54:43.246970Z",
     "iopub.status.busy": "2022-10-18T02:54:43.246484Z",
     "iopub.status.idle": "2022-10-18T02:54:43.310542Z",
     "shell.execute_reply": "2022-10-18T02:54:43.309160Z",
     "shell.execute_reply.started": "2022-10-18T02:54:43.246923Z"
    }
   },
   "outputs": [],
   "source": [
    "for dataset in combine:\n",
    "    for i in range(0, 2):\n",
    "        for j in range(0, 3):\n",
    "            guess_df = dataset[(dataset['Sex'] == i) & \\\n",
    "                                  (dataset['Pclass'] == j+1)]['Age'].dropna()\n",
    "\n",
    "            # age_mean = guess_df.mean()\n",
    "            # age_std = guess_df.std()\n",
    "            # age_guess = rnd.uniform(age_mean - age_std, age_mean + age_std)\n",
    "\n",
    "            age_guess = guess_df.median()\n",
    "\n",
    "            # Convert random age float to nearest .5 age\n",
    "            guess_ages[i,j] = int( age_guess/0.5 + 0.5 ) * 0.5\n",
    "            \n",
    "    for i in range(0, 2):\n",
    "        for j in range(0, 3):\n",
    "            dataset.loc[ (dataset.Age.isnull()) & (dataset.Sex == i) & (dataset.Pclass == j+1),\\\n",
    "                    'Age'] = guess_ages[i,j]\n",
    "\n",
    "    dataset['Age'] = dataset['Age'].astype(int)\n",
    "\n",
    "train_df.head()"
   ]
  },
  {
   "cell_type": "code",
   "execution_count": null,
   "metadata": {
    "execution": {
     "iopub.execute_input": "2022-10-18T02:54:43.312522Z",
     "iopub.status.busy": "2022-10-18T02:54:43.311997Z",
     "iopub.status.idle": "2022-10-18T02:54:43.339103Z",
     "shell.execute_reply": "2022-10-18T02:54:43.337718Z",
     "shell.execute_reply.started": "2022-10-18T02:54:43.312482Z"
    }
   },
   "outputs": [],
   "source": [
    "train_df['AgeBand'] = pd.cut(train_df['Age'], 5)\n",
    "train_df[['AgeBand', 'Survived']].groupby(['AgeBand'], as_index=False).mean().sort_values(by='AgeBand', ascending=True)"
   ]
  },
  {
   "cell_type": "code",
   "execution_count": null,
   "metadata": {
    "execution": {
     "iopub.execute_input": "2022-10-18T02:54:43.350399Z",
     "iopub.status.busy": "2022-10-18T02:54:43.349808Z",
     "iopub.status.idle": "2022-10-18T02:54:43.385171Z",
     "shell.execute_reply": "2022-10-18T02:54:43.383608Z",
     "shell.execute_reply.started": "2022-10-18T02:54:43.350358Z"
    }
   },
   "outputs": [],
   "source": [
    "for dataset in combine:    \n",
    "    dataset.loc[ dataset['Age'] <= 16, 'Age'] = 0\n",
    "    dataset.loc[(dataset['Age'] > 16) & (dataset['Age'] <= 32), 'Age'] = 1\n",
    "    dataset.loc[(dataset['Age'] > 32) & (dataset['Age'] <= 48), 'Age'] = 2\n",
    "    dataset.loc[(dataset['Age'] > 48) & (dataset['Age'] <= 64), 'Age'] = 3\n",
    "    dataset.loc[ dataset['Age'] > 64, 'Age']\n",
    "train_df.head()"
   ]
  },
  {
   "cell_type": "code",
   "execution_count": null,
   "metadata": {
    "execution": {
     "iopub.execute_input": "2022-10-18T02:54:43.388040Z",
     "iopub.status.busy": "2022-10-18T02:54:43.387348Z",
     "iopub.status.idle": "2022-10-18T02:54:43.407856Z",
     "shell.execute_reply": "2022-10-18T02:54:43.406105Z",
     "shell.execute_reply.started": "2022-10-18T02:54:43.387860Z"
    }
   },
   "outputs": [],
   "source": [
    "train_df = train_df.drop(['AgeBand'], axis=1)\n",
    "combine = [train_df, test_df]\n",
    "train_df.head()"
   ]
  },
  {
   "cell_type": "code",
   "execution_count": null,
   "metadata": {
    "execution": {
     "iopub.execute_input": "2022-10-18T02:54:43.410508Z",
     "iopub.status.busy": "2022-10-18T02:54:43.409711Z",
     "iopub.status.idle": "2022-10-18T02:54:43.435592Z",
     "shell.execute_reply": "2022-10-18T02:54:43.434263Z",
     "shell.execute_reply.started": "2022-10-18T02:54:43.410444Z"
    }
   },
   "outputs": [],
   "source": [
    "for dataset in combine:\n",
    "    dataset['FamilySize'] = dataset['SibSp'] + dataset['Parch'] + 1\n",
    "\n",
    "train_df[['FamilySize', 'Survived']].groupby(['FamilySize'], as_index=False).mean().sort_values(by='Survived', ascending=False)"
   ]
  },
  {
   "cell_type": "code",
   "execution_count": null,
   "metadata": {
    "execution": {
     "iopub.execute_input": "2022-10-18T02:54:43.438847Z",
     "iopub.status.busy": "2022-10-18T02:54:43.438310Z",
     "iopub.status.idle": "2022-10-18T02:54:43.459553Z",
     "shell.execute_reply": "2022-10-18T02:54:43.458378Z",
     "shell.execute_reply.started": "2022-10-18T02:54:43.438795Z"
    }
   },
   "outputs": [],
   "source": [
    "for dataset in combine:\n",
    "    dataset['IsAlone'] = 0\n",
    "    dataset.loc[dataset['FamilySize'] == 1, 'IsAlone'] = 1\n",
    "\n",
    "train_df[['IsAlone', 'Survived']].groupby(['IsAlone'], as_index=False).mean()"
   ]
  },
  {
   "cell_type": "code",
   "execution_count": null,
   "metadata": {
    "execution": {
     "iopub.execute_input": "2022-10-18T02:54:43.461508Z",
     "iopub.status.busy": "2022-10-18T02:54:43.461084Z",
     "iopub.status.idle": "2022-10-18T02:54:43.480716Z",
     "shell.execute_reply": "2022-10-18T02:54:43.479542Z",
     "shell.execute_reply.started": "2022-10-18T02:54:43.461473Z"
    }
   },
   "outputs": [],
   "source": [
    "train_df = train_df.drop(['Parch', 'SibSp', 'FamilySize'], axis=1)\n",
    "test_df = test_df.drop(['Parch', 'SibSp', 'FamilySize'], axis=1)\n",
    "combine = [train_df, test_df]\n",
    "\n",
    "train_df.head()"
   ]
  },
  {
   "cell_type": "code",
   "execution_count": null,
   "metadata": {
    "execution": {
     "iopub.execute_input": "2022-10-18T02:54:43.483333Z",
     "iopub.status.busy": "2022-10-18T02:54:43.482798Z",
     "iopub.status.idle": "2022-10-18T02:54:43.499051Z",
     "shell.execute_reply": "2022-10-18T02:54:43.497501Z",
     "shell.execute_reply.started": "2022-10-18T02:54:43.483283Z"
    }
   },
   "outputs": [],
   "source": [
    "for dataset in combine:\n",
    "    dataset['Age*Class'] = dataset.Age * dataset.Pclass\n",
    "\n",
    "train_df.loc[:, ['Age*Class', 'Age', 'Pclass']].head(10)"
   ]
  },
  {
   "cell_type": "code",
   "execution_count": null,
   "metadata": {
    "execution": {
     "iopub.execute_input": "2022-10-18T02:54:43.501132Z",
     "iopub.status.busy": "2022-10-18T02:54:43.500579Z",
     "iopub.status.idle": "2022-10-18T02:54:43.513004Z",
     "shell.execute_reply": "2022-10-18T02:54:43.511777Z",
     "shell.execute_reply.started": "2022-10-18T02:54:43.501093Z"
    }
   },
   "outputs": [],
   "source": [
    "freq_port = train_df.Embarked.dropna().mode()[0]\n",
    "freq_port"
   ]
  },
  {
   "cell_type": "code",
   "execution_count": null,
   "metadata": {
    "execution": {
     "iopub.execute_input": "2022-10-18T02:54:43.514767Z",
     "iopub.status.busy": "2022-10-18T02:54:43.514426Z",
     "iopub.status.idle": "2022-10-18T02:54:43.536564Z",
     "shell.execute_reply": "2022-10-18T02:54:43.535379Z",
     "shell.execute_reply.started": "2022-10-18T02:54:43.514736Z"
    }
   },
   "outputs": [],
   "source": [
    "for dataset in combine:\n",
    "    dataset['Embarked'] = dataset['Embarked'].fillna(freq_port)\n",
    "    \n",
    "train_df[['Embarked', 'Survived']].groupby(['Embarked'], as_index=False).mean().sort_values(by='Survived', ascending=False)"
   ]
  },
  {
   "cell_type": "code",
   "execution_count": null,
   "metadata": {
    "execution": {
     "iopub.execute_input": "2022-10-18T02:54:43.538188Z",
     "iopub.status.busy": "2022-10-18T02:54:43.537822Z",
     "iopub.status.idle": "2022-10-18T02:54:43.561612Z",
     "shell.execute_reply": "2022-10-18T02:54:43.559899Z",
     "shell.execute_reply.started": "2022-10-18T02:54:43.538131Z"
    }
   },
   "outputs": [],
   "source": [
    "for dataset in combine:\n",
    "    dataset['Embarked'] = dataset['Embarked'].map( {'S': 0, 'C': 1, 'Q': 2} ).astype(int)\n",
    "\n",
    "train_df.head()"
   ]
  },
  {
   "cell_type": "code",
   "execution_count": null,
   "metadata": {
    "execution": {
     "iopub.execute_input": "2022-10-18T02:54:43.563504Z",
     "iopub.status.busy": "2022-10-18T02:54:43.563083Z",
     "iopub.status.idle": "2022-10-18T02:54:43.581328Z",
     "shell.execute_reply": "2022-10-18T02:54:43.580004Z",
     "shell.execute_reply.started": "2022-10-18T02:54:43.563469Z"
    }
   },
   "outputs": [],
   "source": [
    "test_df['Fare'].fillna(test_df['Fare'].dropna().median(), inplace=True)\n",
    "test_df.head()"
   ]
  },
  {
   "cell_type": "code",
   "execution_count": null,
   "metadata": {
    "execution": {
     "iopub.execute_input": "2022-10-18T02:54:43.583489Z",
     "iopub.status.busy": "2022-10-18T02:54:43.582956Z",
     "iopub.status.idle": "2022-10-18T02:54:43.608512Z",
     "shell.execute_reply": "2022-10-18T02:54:43.607237Z",
     "shell.execute_reply.started": "2022-10-18T02:54:43.583439Z"
    }
   },
   "outputs": [],
   "source": [
    "train_df['FareBand'] = pd.qcut(train_df['Fare'], 4)\n",
    "train_df[['FareBand', 'Survived']].groupby(['FareBand'], as_index=False).mean().sort_values(by='FareBand', ascending=True)"
   ]
  },
  {
   "cell_type": "code",
   "execution_count": null,
   "metadata": {
    "execution": {
     "iopub.execute_input": "2022-10-18T02:54:43.610511Z",
     "iopub.status.busy": "2022-10-18T02:54:43.610083Z",
     "iopub.status.idle": "2022-10-18T02:54:43.642303Z",
     "shell.execute_reply": "2022-10-18T02:54:43.640971Z",
     "shell.execute_reply.started": "2022-10-18T02:54:43.610474Z"
    }
   },
   "outputs": [],
   "source": [
    "for dataset in combine:\n",
    "    dataset.loc[ dataset['Fare'] <= 7.91, 'Fare'] = 0\n",
    "    dataset.loc[(dataset['Fare'] > 7.91) & (dataset['Fare'] <= 14.454), 'Fare'] = 1\n",
    "    dataset.loc[(dataset['Fare'] > 14.454) & (dataset['Fare'] <= 31), 'Fare']   = 2\n",
    "    dataset.loc[ dataset['Fare'] > 31, 'Fare'] = 3\n",
    "    dataset['Fare'] = dataset['Fare'].astype(int)\n",
    "\n",
    "train_df = train_df.drop(['FareBand'], axis=1)\n",
    "combine = [train_df, test_df]\n",
    "    \n",
    "train_df.head(10)"
   ]
  },
  {
   "cell_type": "code",
   "execution_count": null,
   "metadata": {
    "execution": {
     "iopub.execute_input": "2022-10-18T02:54:43.644852Z",
     "iopub.status.busy": "2022-10-18T02:54:43.644437Z",
     "iopub.status.idle": "2022-10-18T02:54:43.662225Z",
     "shell.execute_reply": "2022-10-18T02:54:43.660904Z",
     "shell.execute_reply.started": "2022-10-18T02:54:43.644808Z"
    }
   },
   "outputs": [],
   "source": [
    "test_df.head(10)"
   ]
  },
  {
   "cell_type": "code",
   "execution_count": null,
   "metadata": {
    "execution": {
     "iopub.execute_input": "2022-10-18T02:54:43.664912Z",
     "iopub.status.busy": "2022-10-18T02:54:43.664384Z",
     "iopub.status.idle": "2022-10-18T02:54:43.679814Z",
     "shell.execute_reply": "2022-10-18T02:54:43.678552Z",
     "shell.execute_reply.started": "2022-10-18T02:54:43.664850Z"
    }
   },
   "outputs": [],
   "source": [
    "X_train = train_df.drop(\"Survived\", axis=1)\n",
    "Y_train = train_df[\"Survived\"]\n",
    "X_test  = test_df.drop(\"PassengerId\", axis=1).copy()\n",
    "X_train.shape, Y_train.shape, X_test.shape"
   ]
  },
  {
   "cell_type": "code",
   "execution_count": null,
   "metadata": {
    "execution": {
     "iopub.execute_input": "2022-10-18T02:54:43.681940Z",
     "iopub.status.busy": "2022-10-18T02:54:43.681541Z",
     "iopub.status.idle": "2022-10-18T02:54:43.719793Z",
     "shell.execute_reply": "2022-10-18T02:54:43.718665Z",
     "shell.execute_reply.started": "2022-10-18T02:54:43.681905Z"
    }
   },
   "outputs": [],
   "source": [
    "# Logistic Regression\n",
    "\n",
    "logreg = LogisticRegression()\n",
    "logreg.fit(X_train, Y_train)\n",
    "Y_pred = logreg.predict(X_test)\n",
    "acc_log = round(logreg.score(X_train, Y_train) * 100, 2)\n",
    "acc_log"
   ]
  },
  {
   "cell_type": "code",
   "execution_count": null,
   "metadata": {
    "execution": {
     "iopub.execute_input": "2022-10-18T02:54:43.723702Z",
     "iopub.status.busy": "2022-10-18T02:54:43.723282Z",
     "iopub.status.idle": "2022-10-18T02:54:55.158222Z",
     "shell.execute_reply": "2022-10-18T02:54:55.156903Z",
     "shell.execute_reply.started": "2022-10-18T02:54:43.723667Z"
    }
   },
   "outputs": [],
   "source": [
    "#bagging classifier\n",
    "from sklearn.ensemble import BaggingClassifier\n",
    "from sklearn.model_selection import GridSearchCV, StratifiedShuffleSplit\n",
    "n_estimators = [10,30,50,70,80,150,160, 170,175,180,185];\n",
    "cv = StratifiedShuffleSplit(n_splits=10, test_size=.30, random_state=15)\n",
    "\n",
    "parameters = {'n_estimators':n_estimators,\n",
    "              \n",
    "        }\n",
    "grid = GridSearchCV(BaggingClassifier(base_estimator= None, ## If None, then the base estimator is a decision tree.\n",
    "                                      bootstrap_features=False),\n",
    "                                 param_grid=parameters,\n",
    "                                 cv=cv,\n",
    "                                 n_jobs = -1)\n",
    "grid.fit(X_train,Y_train) "
   ]
  },
  {
   "cell_type": "code",
   "execution_count": null,
   "metadata": {
    "execution": {
     "iopub.execute_input": "2022-10-18T02:54:55.160734Z",
     "iopub.status.busy": "2022-10-18T02:54:55.159730Z",
     "iopub.status.idle": "2022-10-18T02:54:55.169051Z",
     "shell.execute_reply": "2022-10-18T02:54:55.167700Z",
     "shell.execute_reply.started": "2022-10-18T02:54:55.160681Z"
    }
   },
   "outputs": [],
   "source": [
    "print (grid.best_score_)\n",
    "print (grid.best_params_)\n",
    "print (grid.best_estimator_)"
   ]
  },
  {
   "cell_type": "code",
   "execution_count": null,
   "metadata": {
    "execution": {
     "iopub.execute_input": "2022-10-18T02:54:55.171078Z",
     "iopub.status.busy": "2022-10-18T02:54:55.170668Z",
     "iopub.status.idle": "2022-10-18T02:54:55.221832Z",
     "shell.execute_reply": "2022-10-18T02:54:55.220737Z",
     "shell.execute_reply.started": "2022-10-18T02:54:55.171037Z"
    }
   },
   "outputs": [],
   "source": [
    "bagging_grid = grid.best_estimator_\n",
    "bagging_grid.score(X_train,Y_train)"
   ]
  },
  {
   "cell_type": "code",
   "execution_count": null,
   "metadata": {
    "execution": {
     "iopub.execute_input": "2022-10-18T02:54:55.223704Z",
     "iopub.status.busy": "2022-10-18T02:54:55.223380Z",
     "iopub.status.idle": "2022-10-18T02:54:55.239777Z",
     "shell.execute_reply": "2022-10-18T02:54:55.238277Z",
     "shell.execute_reply.started": "2022-10-18T02:54:55.223675Z"
    }
   },
   "outputs": [],
   "source": [
    "coeff_df = pd.DataFrame(train_df.columns.delete(0))\n",
    "coeff_df.columns = ['Feature']\n",
    "coeff_df[\"Correlation\"] = pd.Series(logreg.coef_[0])\n",
    "\n",
    "coeff_df.sort_values(by='Correlation', ascending=False)"
   ]
  },
  {
   "cell_type": "code",
   "execution_count": null,
   "metadata": {
    "execution": {
     "iopub.execute_input": "2022-10-18T02:54:55.241727Z",
     "iopub.status.busy": "2022-10-18T02:54:55.241338Z",
     "iopub.status.idle": "2022-10-18T02:54:55.330480Z",
     "shell.execute_reply": "2022-10-18T02:54:55.329113Z",
     "shell.execute_reply.started": "2022-10-18T02:54:55.241692Z"
    }
   },
   "outputs": [],
   "source": [
    "# Support Vector Machines\n",
    "\n",
    "svc = SVC()\n",
    "svc.fit(X_train, Y_train)\n",
    "Y_pred = svc.predict(X_test)\n",
    "acc_svc = round(svc.score(X_train, Y_train) * 100, 5)\n",
    "acc_svc"
   ]
  },
  {
   "cell_type": "code",
   "execution_count": null,
   "metadata": {
    "execution": {
     "iopub.execute_input": "2022-10-18T02:54:55.332507Z",
     "iopub.status.busy": "2022-10-18T02:54:55.332082Z",
     "iopub.status.idle": "2022-10-18T02:54:55.393994Z",
     "shell.execute_reply": "2022-10-18T02:54:55.392231Z",
     "shell.execute_reply.started": "2022-10-18T02:54:55.332473Z"
    }
   },
   "outputs": [],
   "source": [
    "knn = KNeighborsClassifier(n_neighbors = 3)\n",
    "knn.fit(X_train, Y_train)\n",
    "Y_pred = knn.predict(X_test)\n",
    "acc_knn = round(knn.score(X_train, Y_train) * 100, 5)\n",
    "acc_knn"
   ]
  },
  {
   "cell_type": "code",
   "execution_count": null,
   "metadata": {
    "execution": {
     "iopub.execute_input": "2022-10-18T02:54:55.396580Z",
     "iopub.status.busy": "2022-10-18T02:54:55.396098Z",
     "iopub.status.idle": "2022-10-18T02:54:55.414028Z",
     "shell.execute_reply": "2022-10-18T02:54:55.412503Z",
     "shell.execute_reply.started": "2022-10-18T02:54:55.396542Z"
    }
   },
   "outputs": [],
   "source": [
    "# Gaussian Naive Bayes\n",
    "\n",
    "gaussian = GaussianNB()\n",
    "gaussian.fit(X_train, Y_train)\n",
    "Y_pred = gaussian.predict(X_test)\n",
    "acc_gaussian = round(gaussian.score(X_train, Y_train) * 100, 5)\n",
    "acc_gaussian"
   ]
  },
  {
   "cell_type": "code",
   "execution_count": null,
   "metadata": {
    "execution": {
     "iopub.execute_input": "2022-10-18T02:54:55.416436Z",
     "iopub.status.busy": "2022-10-18T02:54:55.415903Z",
     "iopub.status.idle": "2022-10-18T02:54:55.433940Z",
     "shell.execute_reply": "2022-10-18T02:54:55.432515Z",
     "shell.execute_reply.started": "2022-10-18T02:54:55.416399Z"
    }
   },
   "outputs": [],
   "source": [
    "# Perceptron\n",
    "\n",
    "perceptron = Perceptron()\n",
    "perceptron.fit(X_train, Y_train)\n",
    "Y_pred = perceptron.predict(X_test)\n",
    "acc_perceptron = round(perceptron.score(X_train, Y_train) * 100, 5)\n",
    "acc_perceptron"
   ]
  },
  {
   "cell_type": "code",
   "execution_count": null,
   "metadata": {
    "execution": {
     "iopub.execute_input": "2022-10-18T02:54:55.435841Z",
     "iopub.status.busy": "2022-10-18T02:54:55.435475Z",
     "iopub.status.idle": "2022-10-18T02:54:55.502084Z",
     "shell.execute_reply": "2022-10-18T02:54:55.500701Z",
     "shell.execute_reply.started": "2022-10-18T02:54:55.435809Z"
    }
   },
   "outputs": [],
   "source": [
    "# Linear SVC\n",
    "\n",
    "linear_svc = LinearSVC()\n",
    "linear_svc.fit(X_train, Y_train)\n",
    "Y_pred = linear_svc.predict(X_test)\n",
    "acc_linear_svc = round(linear_svc.score(X_train, Y_train) * 100, 5)\n",
    "acc_linear_svc"
   ]
  },
  {
   "cell_type": "code",
   "execution_count": null,
   "metadata": {
    "execution": {
     "iopub.execute_input": "2022-10-18T02:54:55.504233Z",
     "iopub.status.busy": "2022-10-18T02:54:55.503834Z",
     "iopub.status.idle": "2022-10-18T02:54:55.521303Z",
     "shell.execute_reply": "2022-10-18T02:54:55.519988Z",
     "shell.execute_reply.started": "2022-10-18T02:54:55.504196Z"
    }
   },
   "outputs": [],
   "source": [
    "# Stochastic Gradient Descent\n",
    "\n",
    "sgd = SGDClassifier()\n",
    "sgd.fit(X_train, Y_train)\n",
    "Y_pred = sgd.predict(X_test)\n",
    "acc_sgd = round(sgd.score(X_train, Y_train) * 100, 5)\n",
    "acc_sgd"
   ]
  },
  {
   "cell_type": "code",
   "execution_count": null,
   "metadata": {
    "execution": {
     "iopub.execute_input": "2022-10-18T02:54:55.523033Z",
     "iopub.status.busy": "2022-10-18T02:54:55.522670Z",
     "iopub.status.idle": "2022-10-18T02:54:55.533377Z",
     "shell.execute_reply": "2022-10-18T02:54:55.532354Z",
     "shell.execute_reply.started": "2022-10-18T02:54:55.522994Z"
    }
   },
   "outputs": [],
   "source": [
    "class1=len(train_df[(train_df[\"Survived\"]==1)&(train_df[\"Pclass\"]==1)])\n",
    "class2=len(train_df[(train_df[\"Survived\"]==1) & (train_df[\"Pclass\"]==2)])\n",
    "class3=len(train_df[(train_df[\"Survived\"]==1)&(train_df[\"Pclass\"]==3)])"
   ]
  },
  {
   "cell_type": "code",
   "execution_count": null,
   "metadata": {
    "execution": {
     "iopub.execute_input": "2022-10-18T02:54:55.535169Z",
     "iopub.status.busy": "2022-10-18T02:54:55.534751Z",
     "iopub.status.idle": "2022-10-18T02:54:55.546416Z",
     "shell.execute_reply": "2022-10-18T02:54:55.545293Z",
     "shell.execute_reply.started": "2022-10-18T02:54:55.535116Z"
    }
   },
   "outputs": [],
   "source": [
    "children=len(train_df[(train_df[\"Survived\"]==1)&(train_df[\"Age\"]<18)])\n",
    "adult=len(train_df[(train_df[\"Survived\"]==1)&(train_df[\"Age\"]>18)])"
   ]
  },
  {
   "cell_type": "code",
   "execution_count": null,
   "metadata": {
    "execution": {
     "iopub.execute_input": "2022-10-18T02:54:55.548288Z",
     "iopub.status.busy": "2022-10-18T02:54:55.547840Z",
     "iopub.status.idle": "2022-10-18T02:54:55.563375Z",
     "shell.execute_reply": "2022-10-18T02:54:55.561834Z",
     "shell.execute_reply.started": "2022-10-18T02:54:55.548248Z"
    }
   },
   "outputs": [],
   "source": [
    "print(\"% of children who survived\",100*(children/len(train_df[train_df[\"Age\"]<18])))\n",
    "print(\"% of adult who survived\",100*(adult/len(train_df[train_df[\"Age\"]>18])))"
   ]
  },
  {
   "cell_type": "code",
   "execution_count": null,
   "metadata": {
    "execution": {
     "iopub.execute_input": "2022-10-18T02:54:55.565434Z",
     "iopub.status.busy": "2022-10-18T02:54:55.565054Z",
     "iopub.status.idle": "2022-10-18T02:54:55.579838Z",
     "shell.execute_reply": "2022-10-18T02:54:55.577321Z",
     "shell.execute_reply.started": "2022-10-18T02:54:55.565399Z"
    }
   },
   "outputs": [],
   "source": [
    "#Encode the sex male as 1 and female as 0\n",
    "train_df[\"Sex\"] = train_df[\"Sex\"].apply(lambda x: 1 if x==\"male\" else 0)\n",
    "#Omit irrelevant columns such as port, cabin, Embarked, Ticket, Passenger-ID, Name\n",
    "train_df = train_df[['Survived','Pclass','Sex','Age','Fare']]\n",
    "#Fill themissing values of Age and fare with mean value(any relevant values)\n",
    "train_df[\"Age\"] = train_df[\"Age\"].fillna(np.mean(train_df[\"Age\"]))\n",
    "train_df[\"Fare\"] = train_df[\"Fare\"].fillna(np.mean(train_df[\"Fare\"]))"
   ]
  },
  {
   "cell_type": "code",
   "execution_count": null,
   "metadata": {
    "execution": {
     "iopub.execute_input": "2022-10-18T02:54:55.581936Z",
     "iopub.status.busy": "2022-10-18T02:54:55.581394Z",
     "iopub.status.idle": "2022-10-18T02:54:55.595972Z",
     "shell.execute_reply": "2022-10-18T02:54:55.594910Z",
     "shell.execute_reply.started": "2022-10-18T02:54:55.581886Z"
    }
   },
   "outputs": [],
   "source": [
    "Y = train_df[\"Survived\"]\n",
    "X = train_df.drop(\"Survived\",axis=1)"
   ]
  },
  {
   "cell_type": "code",
   "execution_count": null,
   "metadata": {},
   "outputs": [],
   "source": []
  },
  {
   "cell_type": "code",
   "execution_count": null,
   "metadata": {
    "execution": {
     "iopub.execute_input": "2022-10-18T02:54:55.597754Z",
     "iopub.status.busy": "2022-10-18T02:54:55.597278Z",
     "iopub.status.idle": "2022-10-18T02:54:55.618203Z",
     "shell.execute_reply": "2022-10-18T02:54:55.616855Z",
     "shell.execute_reply.started": "2022-10-18T02:54:55.597708Z"
    }
   },
   "outputs": [],
   "source": [
    "# Decision Tree\n",
    "\n",
    "decision_tree = DecisionTreeClassifier()\n",
    "decision_tree.fit(X_train, Y_train)\n",
    "Y_pred = decision_tree.predict(X_test)\n",
    "acc_decision_tree = round(decision_tree.score(X_train, Y_train) * 100, 5)\n",
    "acc_decision_tree"
   ]
  },
  {
   "cell_type": "code",
   "execution_count": null,
   "metadata": {
    "execution": {
     "iopub.execute_input": "2022-10-18T02:54:55.620820Z",
     "iopub.status.busy": "2022-10-18T02:54:55.620306Z",
     "iopub.status.idle": "2022-10-18T02:54:55.879803Z",
     "shell.execute_reply": "2022-10-18T02:54:55.878594Z",
     "shell.execute_reply.started": "2022-10-18T02:54:55.620773Z"
    }
   },
   "outputs": [],
   "source": [
    "# Random Forest\n",
    "\n",
    "random_forest = RandomForestClassifier(n_estimators=100)\n",
    "random_forest.fit(X_train, Y_train)\n",
    "Y_pred = random_forest.predict(X_test)\n",
    "random_forest.score(X_train, Y_train)\n",
    "acc_random_forest = round(random_forest.score(X_train, Y_train) * 100, 5)\n",
    "acc_random_forest"
   ]
  },
  {
   "cell_type": "code",
   "execution_count": null,
   "metadata": {
    "execution": {
     "iopub.execute_input": "2022-10-18T02:54:55.881671Z",
     "iopub.status.busy": "2022-10-18T02:54:55.881278Z",
     "iopub.status.idle": "2022-10-18T02:54:56.739302Z",
     "shell.execute_reply": "2022-10-18T02:54:56.738218Z",
     "shell.execute_reply.started": "2022-10-18T02:54:55.881634Z"
    }
   },
   "outputs": [],
   "source": [
    "score = cross_val_score(RandomForestClassifier(random_state= 42), X, Y, cv= kf, scoring=\"accuracy\")\n",
    "print(f'Scores for each fold are: {score}')\n",
    "print(f'Average score: {\"{:.2f}\".format(score.mean())}')"
   ]
  },
  {
   "cell_type": "code",
   "execution_count": null,
   "metadata": {
    "execution": {
     "iopub.execute_input": "2022-10-18T02:54:56.743434Z",
     "iopub.status.busy": "2022-10-18T02:54:56.742328Z",
     "iopub.status.idle": "2022-10-18T02:54:56.760013Z",
     "shell.execute_reply": "2022-10-18T02:54:56.758569Z",
     "shell.execute_reply.started": "2022-10-18T02:54:56.743386Z"
    }
   },
   "outputs": [],
   "source": [
    "models = pd.DataFrame({\n",
    "    'Model': ['Support Vector Machines', 'KNN', 'Logistic Regression', \n",
    "              'Random Forest', 'Naive Bayes', 'Perceptron', \n",
    "              'Stochastic Gradient Decent', 'Linear SVC', \n",
    "              'Decision Tree'],\n",
    "    'Score': [acc_svc, acc_knn, acc_log, \n",
    "              acc_random_forest, acc_gaussian, acc_perceptron, \n",
    "              acc_sgd, acc_linear_svc, acc_decision_tree]})\n",
    "models.sort_values(by='Score', ascending=False)"
   ]
  },
  {
   "cell_type": "code",
   "execution_count": null,
   "metadata": {
    "execution": {
     "iopub.execute_input": "2022-10-18T02:54:56.762595Z",
     "iopub.status.busy": "2022-10-18T02:54:56.762077Z",
     "iopub.status.idle": "2022-10-18T02:54:56.780018Z",
     "shell.execute_reply": "2022-10-18T02:54:56.779025Z",
     "shell.execute_reply.started": "2022-10-18T02:54:56.762546Z"
    }
   },
   "outputs": [],
   "source": [
    "test = pd.read_csv('../input/titanic/test.csv')\n",
    "test['Survived'] = 0\n",
    "test.loc[test['Sex'] == 'female','Survived'] = 1\n",
    "data_to_submit = pd.DataFrame({\n",
    "    'PassengerId':test['PassengerId'],\n",
    "    'Survived':test['Survived']\n",
    "})"
   ]
  },
  {
   "cell_type": "code",
   "execution_count": null,
   "metadata": {
    "execution": {
     "iopub.execute_input": "2022-10-18T02:54:56.782224Z",
     "iopub.status.busy": "2022-10-18T02:54:56.781559Z",
     "iopub.status.idle": "2022-10-18T02:54:56.789486Z",
     "shell.execute_reply": "2022-10-18T02:54:56.788233Z",
     "shell.execute_reply.started": "2022-10-18T02:54:56.782178Z"
    }
   },
   "outputs": [],
   "source": [
    "data_to_submit.to_csv('csv_to_submit.csv', index = False)"
   ]
  },
  {
   "cell_type": "code",
   "execution_count": null,
   "metadata": {
    "execution": {
     "iopub.execute_input": "2022-10-18T02:54:56.791437Z",
     "iopub.status.busy": "2022-10-18T02:54:56.791025Z",
     "iopub.status.idle": "2022-10-18T02:54:56.801104Z",
     "shell.execute_reply": "2022-10-18T02:54:56.799970Z",
     "shell.execute_reply.started": "2022-10-18T02:54:56.791394Z"
    }
   },
   "outputs": [],
   "source": [
    "submission = pd.DataFrame({\n",
    "        \"PassengerId\": test_df[\"PassengerId\"],\n",
    "        \"Survived\": Y_pred\n",
    "    })\n",
    "#submission.to_csv('../input/titanic-sub/gender_submission.csv', index=False)"
   ]
  }
 ],
 "metadata": {
  "kernelspec": {
   "display_name": "Python 3 (ipykernel)",
   "language": "python",
   "name": "python3"
  },
  "language_info": {
   "codemirror_mode": {
    "name": "ipython",
    "version": 3
   },
   "file_extension": ".py",
   "mimetype": "text/x-python",
   "name": "python",
   "nbconvert_exporter": "python",
   "pygments_lexer": "ipython3",
   "version": "3.9.13"
  }
 },
 "nbformat": 4,
 "nbformat_minor": 4
}
