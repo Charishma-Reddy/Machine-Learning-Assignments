{
  "metadata": {
    "kernelspec": {
      "language": "python",
      "display_name": "Python 3",
      "name": "python3"
    },
    "language_info": {
      "name": "python",
      "version": "3.7.9",
      "mimetype": "text/x-python",
      "codemirror_mode": {
        "name": "ipython",
        "version": 3
      },
      "pygments_lexer": "ipython3",
      "nbconvert_exporter": "python",
      "file_extension": ".py"
    },
    "colab": {
      "provenance": []
    }
  },
  "nbformat_minor": 0,
  "nbformat": 4,
  "cells": [
    {
      "cell_type": "code",
      "source": [
        "import kmeans as km\n",
        "import numpy as np"
      ],
      "metadata": {
        "execution": {
          "iopub.status.busy": "2022-11-23T04:46:40.183632Z",
          "iopub.execute_input": "2022-11-23T04:46:40.183939Z",
          "iopub.status.idle": "2022-11-23T04:46:40.188984Z",
          "shell.execute_reply.started": "2022-11-23T04:46:40.183914Z",
          "shell.execute_reply": "2022-11-23T04:46:40.187100Z"
        },
        "trusted": true,
        "id": "4dHXybeJd2fz"
      },
      "execution_count": null,
      "outputs": []
    },
    {
      "cell_type": "markdown",
      "source": [
        "## Task 1"
      ],
      "metadata": {
        "id": "ULICpOsqd2f1"
      }
    },
    {
      "cell_type": "code",
      "source": [
        "dataset2 = km.loadCSV('/kaggle/input/ml-hw4-kmeans/dataset.csv')\n",
        "k = len(set([x[-1] for x in dataset2]))\n",
        "\n",
        "\n",
        "dataset2 = [(x[4],x[0],x[1],x[2],x[3]) for x in dataset2]\n",
        "\n",
        "print(k)"
      ],
      "metadata": {
        "tags": [],
        "execution": {
          "iopub.status.busy": "2022-11-23T04:46:40.191727Z",
          "iopub.execute_input": "2022-11-23T04:46:40.192234Z",
          "iopub.status.idle": "2022-11-23T04:46:40.210960Z",
          "shell.execute_reply.started": "2022-11-23T04:46:40.192198Z",
          "shell.execute_reply": "2022-11-23T04:46:40.209462Z"
        },
        "trusted": true,
        "id": "gN2Ez5oFd2f3",
        "outputId": "c1aaa60a-8efa-45ea-ff04-50b4f8dc951e"
      },
      "execution_count": null,
      "outputs": [
        {
          "name": "stdout",
          "text": "3\n",
          "output_type": "stream"
        }
      ]
    },
    {
      "cell_type": "code",
      "source": [
        "clustering_euclidian = km.kmeans(dataset2,k,dist_type='euclidian')\n",
        "clustering_cosine = km.kmeans(dataset2,k,dist_type='cosine')\n",
        "clustering_jaccard = km.kmeans(dataset2,k,dist_type='jaccard')\n",
        "\n",
        "\n",
        "print('Euclidian: ', clustering_euclidian['withinss'])\n",
        "print('Cosine: ', clustering_cosine['withinss'])\n",
        "print('Jaccard: ', clustering_jaccard['withinss'])"
      ],
      "metadata": {
        "execution": {
          "iopub.status.busy": "2022-11-23T04:46:40.212071Z",
          "iopub.execute_input": "2022-11-23T04:46:40.212420Z",
          "iopub.status.idle": "2022-11-23T04:46:40.379826Z",
          "shell.execute_reply.started": "2022-11-23T04:46:40.212384Z",
          "shell.execute_reply": "2022-11-23T04:46:40.378849Z"
        },
        "trusted": true,
        "id": "P6zJaAC_d2f5",
        "outputId": "44f412d1-0914-45b2-e737-35a506861ed7"
      },
      "execution_count": null,
      "outputs": [
        {
          "name": "stdout",
          "text": "Euclidian:  78.91880877308482\nCosine:  0.16177130608680623\nJaccard:  142.5\n",
          "output_type": "stream"
        }
      ]
    },
    {
      "cell_type": "code",
      "source": [
        "def accuracy(cluster):\n",
        "    label_accuracy = list()\n",
        "    for cluster in cluster['clusters']:\n",
        "        labels = dict()\n",
        "        for item in cluster:\n",
        "            labels.setdefault(item[0],0)\n",
        "            labels[item[0]] += 1\n",
        "        vals = np.array(list(labels.values()))\n",
        "        vals.sort()\n",
        "        if len(vals) == 0:\n",
        "            label_accuracy.append(0)\n",
        "        else:\n",
        "            label_accuracy.append(vals[-1]/sum(vals))\n",
        "    label_accuracy = np.array(label_accuracy)\n",
        "    return label_accuracy.mean()\n",
        "\n",
        "print('Euclidian: ', accuracy(clustering_euclidian))\n",
        "print('Cosine: ', accuracy(clustering_cosine))\n",
        "print('Jaccard: ', accuracy(clustering_jaccard))"
      ],
      "metadata": {
        "execution": {
          "iopub.status.busy": "2022-11-23T04:46:40.382609Z",
          "iopub.execute_input": "2022-11-23T04:46:40.382979Z",
          "iopub.status.idle": "2022-11-23T04:46:40.391737Z",
          "shell.execute_reply.started": "2022-11-23T04:46:40.382944Z",
          "shell.execute_reply": "2022-11-23T04:46:40.390503Z"
        },
        "trusted": true,
        "id": "MzwFdiLLd2f6",
        "outputId": "c7305c8c-e27a-4cba-be26-9ab4e2f20e82"
      },
      "execution_count": null,
      "outputs": [
        {
          "name": "stdout",
          "text": "Euclidian:  0.907187323146576\nCosine:  0.9753086419753086\nJaccard:  0.270377319157807\n",
          "output_type": "stream"
        }
      ]
    },
    {
      "cell_type": "code",
      "source": [
        "print('Euclidian: ', clustering_euclidian['iterations'])\n",
        "print('Cosine: ', clustering_cosine['iterations'])\n",
        "print('Jaccard: ', clustering_jaccard['iterations'])"
      ],
      "metadata": {
        "execution": {
          "iopub.status.busy": "2022-11-23T04:46:40.393448Z",
          "iopub.execute_input": "2022-11-23T04:46:40.393808Z",
          "iopub.status.idle": "2022-11-23T04:46:40.404814Z",
          "shell.execute_reply.started": "2022-11-23T04:46:40.393775Z",
          "shell.execute_reply": "2022-11-23T04:46:40.403363Z"
        },
        "trusted": true,
        "id": "T9gtyCEkd2f6",
        "outputId": "61d954f0-a38c-4ad1-8032-f79ef9ccbc36"
      },
      "execution_count": null,
      "outputs": [
        {
          "name": "stdout",
          "text": "Euclidian:  6\nCosine:  4\nJaccard:  5\n",
          "output_type": "stream"
        }
      ]
    },
    {
      "cell_type": "code",
      "source": [
        "from time import time\n",
        "\n",
        "def run_condition(condition, dataset,k):\n",
        "\n",
        "    euclidian_start = time()\n",
        "    clustering_euclidian = km.kmeans(dataset,k,dist_type='euclidian',condition=condition)\n",
        "    euclidian_time = time() - euclidian_start\n",
        "\n",
        "    print(\"Euclidian \\t Time: {} \\t Iterations: {}\".format(euclidian_time, clustering_euclidian['iterations']))\n",
        "    \n",
        "    cosine_start = time()\n",
        "    clustering_cosine = km.kmeans(dataset,k,dist_type='cosine',condition=condition)\n",
        "    cosine_time = time() - cosine_start\n",
        "\n",
        "    print(\"Cosine \\t\\t Time: {} \\t Iterations: {}\".format(cosine_time, clustering_cosine['iterations']))\n",
        "\n",
        "    jaccard_start = time()\n",
        "    clustering_jaccard = km.kmeans(dataset,k,dist_type='jaccard',condition=condition)\n",
        "    jaccard_time = time() - jaccard_start\n",
        "\n",
        "    print(\"Jaccard \\t Time: {} \\t Iterations: {}\".format(euclidian_time, clustering_jaccard['iterations']))\n"
      ],
      "metadata": {
        "execution": {
          "iopub.status.busy": "2022-11-23T04:46:40.406127Z",
          "iopub.execute_input": "2022-11-23T04:46:40.406406Z",
          "iopub.status.idle": "2022-11-23T04:46:40.415841Z",
          "shell.execute_reply.started": "2022-11-23T04:46:40.406381Z",
          "shell.execute_reply": "2022-11-23T04:46:40.414855Z"
        },
        "trusted": true,
        "id": "wasR2ATTd2f7"
      },
      "execution_count": null,
      "outputs": []
    },
    {
      "cell_type": "code",
      "source": [
        "run_condition('centroid',dataset2,k)"
      ],
      "metadata": {
        "execution": {
          "iopub.status.busy": "2022-11-23T04:46:40.418233Z",
          "iopub.execute_input": "2022-11-23T04:46:40.418922Z",
          "iopub.status.idle": "2022-11-23T04:46:40.586735Z",
          "shell.execute_reply.started": "2022-11-23T04:46:40.418846Z",
          "shell.execute_reply": "2022-11-23T04:46:40.585344Z"
        },
        "trusted": true,
        "id": "LKIS21VRd2f7",
        "outputId": "89d1cb85-cd6c-40ac-b602-24dcd8616154"
      },
      "execution_count": null,
      "outputs": [
        {
          "name": "stdout",
          "text": "Euclidian \t Time: 0.005767107009887695 \t Iterations: 6\nCosine \t\t Time: 0.11589264869689941 \t Iterations: 5\nJaccard \t Time: 0.005767107009887695 \t Iterations: 3\n",
          "output_type": "stream"
        }
      ]
    },
    {
      "cell_type": "code",
      "source": [
        "run_condition('sse',dataset2,k)"
      ],
      "metadata": {
        "execution": {
          "iopub.status.busy": "2022-11-23T04:46:40.587990Z",
          "iopub.execute_input": "2022-11-23T04:46:40.588347Z",
          "iopub.status.idle": "2022-11-23T04:46:40.760147Z",
          "shell.execute_reply.started": "2022-11-23T04:46:40.588307Z",
          "shell.execute_reply": "2022-11-23T04:46:40.758918Z"
        },
        "trusted": true,
        "id": "IeTno89Gd2f8",
        "outputId": "8a5785da-2fcd-426d-e31b-3e0e1285e90a"
      },
      "execution_count": null,
      "outputs": [
        {
          "name": "stdout",
          "text": "Euclidian \t Time: 0.002797842025756836 \t Iterations: 3\nCosine \t\t Time: 0.11973261833190918 \t Iterations: 5\nJaccard \t Time: 0.002797842025756836 \t Iterations: 4\n",
          "output_type": "stream"
        }
      ]
    },
    {
      "cell_type": "code",
      "source": [
        "run_condition('iteration',dataset2,k)"
      ],
      "metadata": {
        "execution": {
          "iopub.status.busy": "2022-11-23T04:46:40.761043Z",
          "iopub.execute_input": "2022-11-23T04:46:40.761271Z",
          "iopub.status.idle": "2022-11-23T04:46:44.137683Z",
          "shell.execute_reply.started": "2022-11-23T04:46:40.761248Z",
          "shell.execute_reply": "2022-11-23T04:46:44.136211Z"
        },
        "trusted": true,
        "id": "EWPfRkcod2f_",
        "outputId": "fa679fd7-3dbc-423d-f2d0-5f5eec811856"
      },
      "execution_count": null,
      "outputs": [
        {
          "name": "stdout",
          "text": "Euclidian \t Time: 0.0960090160369873 \t Iterations: 100\nCosine \t\t Time: 2.340681552886963 \t Iterations: 100\nJaccard \t Time: 0.0960090160369873 \t Iterations: 100\n",
          "output_type": "stream"
        }
      ]
    }
  ]
}